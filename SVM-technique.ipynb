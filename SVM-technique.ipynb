{
  "nbformat": 4,
  "nbformat_minor": 0,
  "metadata": {
    "colab": {
      "name": "Untitled2.ipynb",
      "provenance": [],
      "mount_file_id": "1AMmzIPzk51_nKy7OnCF8s7wkEXRez9Zd",
      "authorship_tag": "ABX9TyNMRKF0ZpSom75e1GYHcFu9",
      "include_colab_link": true
    },
    "kernelspec": {
      "name": "python3",
      "display_name": "Python 3"
    }
  },
  "cells": [
    {
      "cell_type": "markdown",
      "metadata": {
        "id": "view-in-github",
        "colab_type": "text"
      },
      "source": [
        "<a href=\"https://colab.research.google.com/github/thomasathul/Rice-Plant-Disease-Detection/blob/main/SVM-technique.ipynb\" target=\"_parent\"><img src=\"https://colab.research.google.com/assets/colab-badge.svg\" alt=\"Open In Colab\"/></a>"
      ]
    },
    {
      "cell_type": "code",
      "metadata": {
        "id": "0Tmw091-mXP7"
      },
      "source": [
        "from pathlib import Path\r\n",
        "import matplotlib.pyplot as plt\r\n",
        "import numpy as np\r\n",
        "%matplotlib notebook\r\n",
        "from sklearn import svm, metrics, datasets\r\n",
        "from sklearn.utils import Bunch\r\n",
        "from sklearn.model_selection import GridSearchCV, train_test_split\r\n",
        "from skimage.io import imread\r\n",
        "from skimage.transform import resize\r\n",
        "import skimage\r\n",
        "import os"
      ],
      "execution_count": 153,
      "outputs": []
    },
    {
      "cell_type": "code",
      "metadata": {
        "id": "X119nGQfmvBk"
      },
      "source": [
        "def load_image_files(container_path, dimension=(104, 104)):\r\n",
        "    \r\n",
        "    image_directory = Path(container_path)\r\n",
        "    folders = [directory for directory in image_directory.iterdir() if directory.is_dir()]\r\n",
        "    categories = [fo.name for fo in folders]\r\n",
        "    images = []\r\n",
        "    flatten_data = []\r\n",
        "    target = []\r\n",
        "    for i, direc in enumerate(folders):\r\n",
        "        for file in direc.iterdir():\r\n",
        "            img = skimage.io.imread(file)\r\n",
        "            img_resized = resize(img, dimension, anti_aliasing=True, mode='reflect')\r\n",
        "            flatten_data.append(img_resized.flatten()) \r\n",
        "            images.append(img_resized)\r\n",
        "            target.append(i)\r\n",
        "\r\n",
        "    flatten_data = np.array(flatten_data)\r\n",
        "    target = np.array(target)\r\n",
        "    images = np.array(images)\r\n",
        "    return Bunch(data=flatten_data,\r\n",
        "                 target=target,\r\n",
        "                 target_names=categories,\r\n",
        "                 images=images,\r\n",
        "                )"
      ],
      "execution_count": 154,
      "outputs": []
    },
    {
      "cell_type": "code",
      "metadata": {
        "id": "fDY4BX0auexH"
      },
      "source": [
        "data='/content/drive/MyDrive/kaggle/rice/ricedisease'"
      ],
      "execution_count": 155,
      "outputs": []
    },
    {
      "cell_type": "code",
      "metadata": {
        "colab": {
          "base_uri": "https://localhost:8080/"
        },
        "id": "Bq2EQnjunRW-",
        "outputId": "06b13d16-c655-4dc5-c024-e469c5eea39b"
      },
      "source": [
        "dataset = load_image_files(data) \r\n",
        "print(dataset.target_names)"
      ],
      "execution_count": 157,
      "outputs": [
        {
          "output_type": "stream",
          "text": [
            "['Healthy', 'Bacterial leaf blight', 'Leaf smut', 'Brown spot']\n"
          ],
          "name": "stdout"
        }
      ]
    },
    {
      "cell_type": "code",
      "metadata": {
        "colab": {
          "base_uri": "https://localhost:8080/"
        },
        "id": "RzGtk7_auTXu",
        "outputId": "5c66719e-818d-4768-f391-0e2199889212"
      },
      "source": [
        "image_count = []\r\n",
        "class_names = []\r\n",
        "\r\n",
        "for folder in os.listdir(os.path.join(data)):\r\n",
        "    folder_num = len(os.listdir(os.path.join(data, folder)))\r\n",
        "    image_count.append(folder_num)\r\n",
        "    class_names.append(folder)\r\n",
        "    print('{:20s}'.format(folder), end=' ')\r\n",
        "    print(folder_num)"
      ],
      "execution_count": 158,
      "outputs": [
        {
          "output_type": "stream",
          "text": [
            "Healthy              40\n",
            "Bacterial leaf blight 40\n",
            "Leaf smut            40\n",
            "Brown spot           40\n"
          ],
          "name": "stdout"
        }
      ]
    },
    {
      "cell_type": "code",
      "metadata": {
        "id": "jnonsqj9DTnW",
        "outputId": "37f1082a-d091-4b8b-86c4-759e73d20fa6",
        "colab": {
          "base_uri": "https://localhost:8080/"
        }
      },
      "source": [
        "\r\n",
        "for dirname, _, filenames in os.walk(data):\r\n",
        "    for filename in filenames:\r\n",
        "        print(os.path.join(dirname, filename))"
      ],
      "execution_count": 165,
      "outputs": [
        {
          "output_type": "stream",
          "text": [
            "/content/drive/MyDrive/kaggle/rice/ricedisease/Healthy/IMG_20190419_172131.jpg\n",
            "/content/drive/MyDrive/kaggle/rice/ricedisease/Healthy/IMG_20190419_172101.jpg\n",
            "/content/drive/MyDrive/kaggle/rice/ricedisease/Healthy/IMG_20190419_172952.jpg\n",
            "/content/drive/MyDrive/kaggle/rice/ricedisease/Healthy/IMG_20190419_172322.jpg\n",
            "/content/drive/MyDrive/kaggle/rice/ricedisease/Healthy/IMG_20190419_172925.jpg\n",
            "/content/drive/MyDrive/kaggle/rice/ricedisease/Healthy/IMG_20190419_172210.jpg\n",
            "/content/drive/MyDrive/kaggle/rice/ricedisease/Healthy/IMG_20190419_173344.jpg\n",
            "/content/drive/MyDrive/kaggle/rice/ricedisease/Healthy/IMG_20190419_172446.jpg\n",
            "/content/drive/MyDrive/kaggle/rice/ricedisease/Healthy/IMG_20190419_172411.jpg\n",
            "/content/drive/MyDrive/kaggle/rice/ricedisease/Healthy/IMG_20190419_173904.jpg\n",
            "/content/drive/MyDrive/kaggle/rice/ricedisease/Healthy/IMG_20190419_175230.jpg\n",
            "/content/drive/MyDrive/kaggle/rice/ricedisease/Healthy/IMG_20190419_174552.jpg\n",
            "/content/drive/MyDrive/kaggle/rice/ricedisease/Healthy/IMG_20190419_175330.jpg\n",
            "/content/drive/MyDrive/kaggle/rice/ricedisease/Healthy/IMG_20190419_174218.jpg\n",
            "/content/drive/MyDrive/kaggle/rice/ricedisease/Healthy/IMG_20190419_174133.jpg\n",
            "/content/drive/MyDrive/kaggle/rice/ricedisease/Healthy/IMG_20190419_174308.jpg\n",
            "/content/drive/MyDrive/kaggle/rice/ricedisease/Healthy/IMG_20190420_190025.jpg\n",
            "/content/drive/MyDrive/kaggle/rice/ricedisease/Healthy/IMG_20190420_193259.jpg\n",
            "/content/drive/MyDrive/kaggle/rice/ricedisease/Healthy/IMG_20190421_195605.jpg\n",
            "/content/drive/MyDrive/kaggle/rice/ricedisease/Healthy/IMG_20190421_195322.jpg\n",
            "/content/drive/MyDrive/kaggle/rice/ricedisease/Healthy/IMG_20190420_193425.jpg\n",
            "/content/drive/MyDrive/kaggle/rice/ricedisease/Healthy/IMG_20190420_200436.jpg\n",
            "/content/drive/MyDrive/kaggle/rice/ricedisease/Healthy/IMG_20190420_194338.jpg\n",
            "/content/drive/MyDrive/kaggle/rice/ricedisease/Healthy/IMG_20190420_200326.jpg\n",
            "/content/drive/MyDrive/kaggle/rice/ricedisease/Healthy/IMG_20190420_194105.jpg\n",
            "/content/drive/MyDrive/kaggle/rice/ricedisease/Healthy/IMG_20190421_195418.jpg\n",
            "/content/drive/MyDrive/kaggle/rice/ricedisease/Healthy/IMG_20190420_200508.jpg\n",
            "/content/drive/MyDrive/kaggle/rice/ricedisease/Healthy/IMG_20190424_130138.jpg\n",
            "/content/drive/MyDrive/kaggle/rice/ricedisease/Healthy/IMG_20190424_130350.jpg\n",
            "/content/drive/MyDrive/kaggle/rice/ricedisease/Healthy/IMG_20190421_195755.jpg\n",
            "/content/drive/MyDrive/kaggle/rice/ricedisease/Healthy/IMG_20190424_130047.jpg\n",
            "/content/drive/MyDrive/kaggle/rice/ricedisease/Healthy/IMG_20190421_195921.jpg\n",
            "/content/drive/MyDrive/kaggle/rice/ricedisease/Healthy/IMG_20190424_125829.jpg\n",
            "/content/drive/MyDrive/kaggle/rice/ricedisease/Healthy/IMG_20190424_130226.jpg\n",
            "/content/drive/MyDrive/kaggle/rice/ricedisease/Healthy/IMG_20190424_125921.jpg\n",
            "/content/drive/MyDrive/kaggle/rice/ricedisease/Healthy/IMG_20190424_130546.jpg\n",
            "/content/drive/MyDrive/kaggle/rice/ricedisease/Healthy/IMG_20190424_130430.jpg\n",
            "/content/drive/MyDrive/kaggle/rice/ricedisease/Healthy/IMG_20190424_130630.jpg\n",
            "/content/drive/MyDrive/kaggle/rice/ricedisease/Healthy/IMG_20190424_130746.jpg\n",
            "/content/drive/MyDrive/kaggle/rice/ricedisease/Healthy/IMG_20190424_130715.jpg\n",
            "/content/drive/MyDrive/kaggle/rice/ricedisease/Bacterial leaf blight/DSC_0378.JPG\n",
            "/content/drive/MyDrive/kaggle/rice/ricedisease/Bacterial leaf blight/DSC_0377.JPG\n",
            "/content/drive/MyDrive/kaggle/rice/ricedisease/Bacterial leaf blight/DSC_0376.JPG\n",
            "/content/drive/MyDrive/kaggle/rice/ricedisease/Bacterial leaf blight/DSC_0375.JPG\n",
            "/content/drive/MyDrive/kaggle/rice/ricedisease/Bacterial leaf blight/DSC_0374.JPG\n",
            "/content/drive/MyDrive/kaggle/rice/ricedisease/Bacterial leaf blight/DSC_0373.JPG\n",
            "/content/drive/MyDrive/kaggle/rice/ricedisease/Bacterial leaf blight/DSC_0372.JPG\n",
            "/content/drive/MyDrive/kaggle/rice/ricedisease/Bacterial leaf blight/DSC_0370.jpg\n",
            "/content/drive/MyDrive/kaggle/rice/ricedisease/Bacterial leaf blight/DSC_0367.JPG\n",
            "/content/drive/MyDrive/kaggle/rice/ricedisease/Bacterial leaf blight/DSC_0366.jpg\n",
            "/content/drive/MyDrive/kaggle/rice/ricedisease/Bacterial leaf blight/DSC_0365.JPG\n",
            "/content/drive/MyDrive/kaggle/rice/ricedisease/Bacterial leaf blight/DSC_0701.jpg\n",
            "/content/drive/MyDrive/kaggle/rice/ricedisease/Bacterial leaf blight/DSC_0702.jpg\n",
            "/content/drive/MyDrive/kaggle/rice/ricedisease/Bacterial leaf blight/DSC_0703.JPG\n",
            "/content/drive/MyDrive/kaggle/rice/ricedisease/Bacterial leaf blight/DSC_0700.jpg\n",
            "/content/drive/MyDrive/kaggle/rice/ricedisease/Bacterial leaf blight/DSC_0406.JPG\n",
            "/content/drive/MyDrive/kaggle/rice/ricedisease/Bacterial leaf blight/DSC_0404.JPG\n",
            "/content/drive/MyDrive/kaggle/rice/ricedisease/Bacterial leaf blight/DSC_0403.JPG\n",
            "/content/drive/MyDrive/kaggle/rice/ricedisease/Bacterial leaf blight/DSC_0405.JPG\n",
            "/content/drive/MyDrive/kaggle/rice/ricedisease/Bacterial leaf blight/DSC_0402.JPG\n",
            "/content/drive/MyDrive/kaggle/rice/ricedisease/Bacterial leaf blight/DSC_0401.JPG\n",
            "/content/drive/MyDrive/kaggle/rice/ricedisease/Bacterial leaf blight/DSC_0400.JPG\n",
            "/content/drive/MyDrive/kaggle/rice/ricedisease/Bacterial leaf blight/DSC_0398.JPG\n",
            "/content/drive/MyDrive/kaggle/rice/ricedisease/Bacterial leaf blight/DSC_0396.JPG\n",
            "/content/drive/MyDrive/kaggle/rice/ricedisease/Bacterial leaf blight/DSC_0397.JPG\n",
            "/content/drive/MyDrive/kaggle/rice/ricedisease/Bacterial leaf blight/DSC_0399.JPG\n",
            "/content/drive/MyDrive/kaggle/rice/ricedisease/Bacterial leaf blight/DSC_0393.JPG\n",
            "/content/drive/MyDrive/kaggle/rice/ricedisease/Bacterial leaf blight/DSC_0392.JPG\n",
            "/content/drive/MyDrive/kaggle/rice/ricedisease/Bacterial leaf blight/DSC_0395.JPG\n",
            "/content/drive/MyDrive/kaggle/rice/ricedisease/Bacterial leaf blight/DSC_0390.JPG\n",
            "/content/drive/MyDrive/kaggle/rice/ricedisease/Bacterial leaf blight/DSC_0389.JPG\n",
            "/content/drive/MyDrive/kaggle/rice/ricedisease/Bacterial leaf blight/DSC_0388.JPG\n",
            "/content/drive/MyDrive/kaggle/rice/ricedisease/Bacterial leaf blight/DSC_0386.JPG\n",
            "/content/drive/MyDrive/kaggle/rice/ricedisease/Bacterial leaf blight/DSC_0384.JPG\n",
            "/content/drive/MyDrive/kaggle/rice/ricedisease/Bacterial leaf blight/DSC_0385.jpg\n",
            "/content/drive/MyDrive/kaggle/rice/ricedisease/Bacterial leaf blight/DSC_0383.JPG\n",
            "/content/drive/MyDrive/kaggle/rice/ricedisease/Bacterial leaf blight/DSC_0380.JPG\n",
            "/content/drive/MyDrive/kaggle/rice/ricedisease/Bacterial leaf blight/DSC_0381.JPG\n",
            "/content/drive/MyDrive/kaggle/rice/ricedisease/Bacterial leaf blight/DSC_0382.JPG\n",
            "/content/drive/MyDrive/kaggle/rice/ricedisease/Bacterial leaf blight/DSC_0379.JPG\n",
            "/content/drive/MyDrive/kaggle/rice/ricedisease/Leaf smut/DSC_0508.jpg\n",
            "/content/drive/MyDrive/kaggle/rice/ricedisease/Leaf smut/DSC_0318.JPG\n",
            "/content/drive/MyDrive/kaggle/rice/ricedisease/Leaf smut/DSC_0317.JPG\n",
            "/content/drive/MyDrive/kaggle/rice/ricedisease/Leaf smut/DSC_0313.JPG\n",
            "/content/drive/MyDrive/kaggle/rice/ricedisease/Leaf smut/DSC_0315.jpg\n",
            "/content/drive/MyDrive/kaggle/rice/ricedisease/Leaf smut/DSC_0316.JPG\n",
            "/content/drive/MyDrive/kaggle/rice/ricedisease/Leaf smut/DSC_0314.JPG\n",
            "/content/drive/MyDrive/kaggle/rice/ricedisease/Leaf smut/DSC_0312.JPG\n",
            "/content/drive/MyDrive/kaggle/rice/ricedisease/Leaf smut/DSC_0310.JPG\n",
            "/content/drive/MyDrive/kaggle/rice/ricedisease/Leaf smut/DSC_0308.JPG\n",
            "/content/drive/MyDrive/kaggle/rice/ricedisease/Leaf smut/DSC_0309.JPG\n",
            "/content/drive/MyDrive/kaggle/rice/ricedisease/Leaf smut/DSC_0293.JPG\n",
            "/content/drive/MyDrive/kaggle/rice/ricedisease/Leaf smut/DSC_0512.jpg\n",
            "/content/drive/MyDrive/kaggle/rice/ricedisease/Leaf smut/DSC_0513.jpg\n",
            "/content/drive/MyDrive/kaggle/rice/ricedisease/Leaf smut/DSC_0514.jpg\n",
            "/content/drive/MyDrive/kaggle/rice/ricedisease/Leaf smut/DSC_0511.jpg\n",
            "/content/drive/MyDrive/kaggle/rice/ricedisease/Leaf smut/DSC_0516.jpg\n",
            "/content/drive/MyDrive/kaggle/rice/ricedisease/Leaf smut/DSC_0515.jpg\n",
            "/content/drive/MyDrive/kaggle/rice/ricedisease/Leaf smut/DSC_0510.jpg\n",
            "/content/drive/MyDrive/kaggle/rice/ricedisease/Leaf smut/DSC_0509.jpg\n",
            "/content/drive/MyDrive/kaggle/rice/ricedisease/Leaf smut/DSC_0507.jpg\n",
            "/content/drive/MyDrive/kaggle/rice/ricedisease/Leaf smut/DSC_0501.jpg\n",
            "/content/drive/MyDrive/kaggle/rice/ricedisease/Leaf smut/DSC_0504.jpg\n",
            "/content/drive/MyDrive/kaggle/rice/ricedisease/Leaf smut/DSC_0502.jpg\n",
            "/content/drive/MyDrive/kaggle/rice/ricedisease/Leaf smut/DSC_0500.jpg\n",
            "/content/drive/MyDrive/kaggle/rice/ricedisease/Leaf smut/DSC_0503.jpg\n",
            "/content/drive/MyDrive/kaggle/rice/ricedisease/Leaf smut/DSC_0339.jpg\n",
            "/content/drive/MyDrive/kaggle/rice/ricedisease/Leaf smut/DSC_0506.jpg\n",
            "/content/drive/MyDrive/kaggle/rice/ricedisease/Leaf smut/DSC_0505.jpg\n",
            "/content/drive/MyDrive/kaggle/rice/ricedisease/Leaf smut/DSC_0338.JPG\n",
            "/content/drive/MyDrive/kaggle/rice/ricedisease/Leaf smut/DSC_0336.jpg\n",
            "/content/drive/MyDrive/kaggle/rice/ricedisease/Leaf smut/DSC_0335.JPG\n",
            "/content/drive/MyDrive/kaggle/rice/ricedisease/Leaf smut/DSC_0331.JPG\n",
            "/content/drive/MyDrive/kaggle/rice/ricedisease/Leaf smut/DSC_0330.jpg\n",
            "/content/drive/MyDrive/kaggle/rice/ricedisease/Leaf smut/DSC_0328.jpg\n",
            "/content/drive/MyDrive/kaggle/rice/ricedisease/Leaf smut/DSC_0327.JPG\n",
            "/content/drive/MyDrive/kaggle/rice/ricedisease/Leaf smut/DSC_0320.JPG\n",
            "/content/drive/MyDrive/kaggle/rice/ricedisease/Leaf smut/DSC_0319.jpg\n",
            "/content/drive/MyDrive/kaggle/rice/ricedisease/Leaf smut/DSC_0321.JPG\n",
            "/content/drive/MyDrive/kaggle/rice/ricedisease/Leaf smut/DSC_0322.jpg\n",
            "/content/drive/MyDrive/kaggle/rice/ricedisease/Brown spot/DSC_0295.JPG\n",
            "/content/drive/MyDrive/kaggle/rice/ricedisease/Brown spot/DSC_0118.jpg\n",
            "/content/drive/MyDrive/kaggle/rice/ricedisease/Brown spot/DSC_0292.JPG\n",
            "/content/drive/MyDrive/kaggle/rice/ricedisease/Brown spot/DSC_0119.jpg\n",
            "/content/drive/MyDrive/kaggle/rice/ricedisease/Brown spot/DSC_0116.jpg\n",
            "/content/drive/MyDrive/kaggle/rice/ricedisease/Brown spot/DSC_0117.jpg\n",
            "/content/drive/MyDrive/kaggle/rice/ricedisease/Brown spot/DSC_0121.jpg\n",
            "/content/drive/MyDrive/kaggle/rice/ricedisease/Brown spot/DSC_0115.jpg\n",
            "/content/drive/MyDrive/kaggle/rice/ricedisease/Brown spot/DSC_0114.jpg\n",
            "/content/drive/MyDrive/kaggle/rice/ricedisease/Brown spot/DSC_0113.jpg\n",
            "/content/drive/MyDrive/kaggle/rice/ricedisease/Brown spot/DSC_0112.jpg\n",
            "/content/drive/MyDrive/kaggle/rice/ricedisease/Brown spot/DSC_0108.jpg\n",
            "/content/drive/MyDrive/kaggle/rice/ricedisease/Brown spot/DSC_0109.jpg\n",
            "/content/drive/MyDrive/kaggle/rice/ricedisease/Brown spot/DSC_0111.jpg\n",
            "/content/drive/MyDrive/kaggle/rice/ricedisease/Brown spot/DSC_0110.jpg\n",
            "/content/drive/MyDrive/kaggle/rice/ricedisease/Brown spot/DSC_0106.jpg\n",
            "/content/drive/MyDrive/kaggle/rice/ricedisease/Brown spot/DSC_0107.jpg\n",
            "/content/drive/MyDrive/kaggle/rice/ricedisease/Brown spot/DSC_0105.jpg\n",
            "/content/drive/MyDrive/kaggle/rice/ricedisease/Brown spot/DSC_0104.jpg\n",
            "/content/drive/MyDrive/kaggle/rice/ricedisease/Brown spot/DSC_0100.jpg\n",
            "/content/drive/MyDrive/kaggle/rice/ricedisease/Brown spot/DSC_0101.jpg\n",
            "/content/drive/MyDrive/kaggle/rice/ricedisease/Brown spot/DSC_0394.jpg\n",
            "/content/drive/MyDrive/kaggle/rice/ricedisease/Brown spot/DSC_0391.jpg\n",
            "/content/drive/MyDrive/kaggle/rice/ricedisease/Brown spot/DSC_0337.JPG\n",
            "/content/drive/MyDrive/kaggle/rice/ricedisease/Brown spot/DSC_0332.JPG\n",
            "/content/drive/MyDrive/kaggle/rice/ricedisease/Brown spot/DSC_0333.JPG\n",
            "/content/drive/MyDrive/kaggle/rice/ricedisease/Brown spot/DSC_0329.jpg\n",
            "/content/drive/MyDrive/kaggle/rice/ricedisease/Brown spot/DSC_0324.JPG\n",
            "/content/drive/MyDrive/kaggle/rice/ricedisease/Brown spot/DSC_0325.JPG\n",
            "/content/drive/MyDrive/kaggle/rice/ricedisease/Brown spot/DSC_0323.JPG\n",
            "/content/drive/MyDrive/kaggle/rice/ricedisease/Brown spot/DSC_0307.JPG\n",
            "/content/drive/MyDrive/kaggle/rice/ricedisease/Brown spot/DSC_0306.JPG\n",
            "/content/drive/MyDrive/kaggle/rice/ricedisease/Brown spot/DSC_0305.JPG\n",
            "/content/drive/MyDrive/kaggle/rice/ricedisease/Brown spot/DSC_0302.JPG\n",
            "/content/drive/MyDrive/kaggle/rice/ricedisease/Brown spot/DSC_0301.JPG\n",
            "/content/drive/MyDrive/kaggle/rice/ricedisease/Brown spot/DSC_0303.JPG\n",
            "/content/drive/MyDrive/kaggle/rice/ricedisease/Brown spot/DSC_0304.JPG\n",
            "/content/drive/MyDrive/kaggle/rice/ricedisease/Brown spot/DSC_0296.jpg\n",
            "/content/drive/MyDrive/kaggle/rice/ricedisease/Brown spot/DSC_0299.JPG\n",
            "/content/drive/MyDrive/kaggle/rice/ricedisease/Brown spot/DSC_0300.JPG\n"
          ],
          "name": "stdout"
        }
      ]
    },
    {
      "cell_type": "code",
      "metadata": {
        "colab": {
          "base_uri": "https://localhost:8080/"
        },
        "id": "liPq7EaMwCjE",
        "outputId": "d6742d69-c279-4c62-867c-609e2e83bfe9"
      },
      "source": [
        " X_train, X_test, y_train, y_test = train_test_split(dataset.data, dataset.target, test_size=0.3,random_state=109)\r\n",
        "param_grid = [\r\n",
        "  {'C': [1, 10, 100, 1000], 'kernel': ['linear']},\r\n",
        "  {'C': [1, 10, 100, 1000], 'gamma': [0.001, 0.0001], 'kernel': ['rbf']},\r\n",
        " ]\r\n",
        "svc = svm.SVC()\r\n",
        "clf = GridSearchCV(svc, param_grid)\r\n",
        "clf.fit(X_train, y_train)\r\n",
        "y_pred = clf.predict(X_test)\r\n",
        "print(clf.score(X_test,y_test))\r\n",
        "  "
      ],
      "execution_count": 159,
      "outputs": [
        {
          "output_type": "stream",
          "text": [
            "0.875\n"
          ],
          "name": "stdout"
        }
      ]
    },
    {
      "cell_type": "code",
      "metadata": {
        "colab": {
          "base_uri": "https://localhost:8080/"
        },
        "id": "Y08F6LUcwZSW",
        "outputId": "7281426e-b209-4363-9c39-aede4986fec5"
      },
      "source": [
        "print(\"Classification report = - \\n{}:\\n{}\\n\".format(\r\n",
        "    clf, metrics.classification_report(y_test, y_pred)))"
      ],
      "execution_count": 160,
      "outputs": [
        {
          "output_type": "stream",
          "text": [
            "Classification report = - \n",
            "GridSearchCV(cv=None, error_score=nan,\n",
            "             estimator=SVC(C=1.0, break_ties=False, cache_size=200,\n",
            "                           class_weight=None, coef0=0.0,\n",
            "                           decision_function_shape='ovr', degree=3,\n",
            "                           gamma='scale', kernel='rbf', max_iter=-1,\n",
            "                           probability=False, random_state=None, shrinking=True,\n",
            "                           tol=0.001, verbose=False),\n",
            "             iid='deprecated', n_jobs=None,\n",
            "             param_grid=[{'C': [1, 10, 100, 1000], 'kernel': ['linear']},\n",
            "                         {'C': [1, 10, 100, 1000], 'gamma': [0.001, 0.0001],\n",
            "                          'kernel': ['rbf']}],\n",
            "             pre_dispatch='2*n_jobs', refit=True, return_train_score=False,\n",
            "             scoring=None, verbose=0):\n",
            "              precision    recall  f1-score   support\n",
            "\n",
            "           0       1.00      1.00      1.00        12\n",
            "           1       0.89      0.80      0.84        10\n",
            "           2       0.77      0.83      0.80        12\n",
            "           3       0.86      0.86      0.86        14\n",
            "\n",
            "    accuracy                           0.88        48\n",
            "   macro avg       0.88      0.87      0.87        48\n",
            "weighted avg       0.88      0.88      0.88        48\n",
            "\n",
            "\n"
          ],
          "name": "stdout"
        }
      ]
    },
    {
      "cell_type": "code",
      "metadata": {
        "colab": {
          "base_uri": "https://localhost:8080/"
        },
        "id": "AZMHKHSowb1r",
        "outputId": "ea4119a8-471c-469e-c8e8-1f8606657284"
      },
      "source": [
        "from sklearn.metrics import confusion_matrix\r\n",
        "cm = confusion_matrix(y_test,y_pred)\r\n",
        "print(cm)"
      ],
      "execution_count": 161,
      "outputs": [
        {
          "output_type": "stream",
          "text": [
            "[[12  0  0  0]\n",
            " [ 0  8  2  0]\n",
            " [ 0  0 10  2]\n",
            " [ 0  1  1 12]]\n"
          ],
          "name": "stdout"
        }
      ]
    },
    {
      "cell_type": "code",
      "metadata": {
        "colab": {
          "base_uri": "https://localhost:8080/"
        },
        "id": "FoNeC_6SwjUJ",
        "outputId": "7dcbd081-27e6-4df2-8175-5eefe28e9f11"
      },
      "source": [
        "print(y_pred)"
      ],
      "execution_count": 162,
      "outputs": [
        {
          "output_type": "stream",
          "text": [
            "[3 0 2 0 2 0 0 2 3 1 1 3 1 3 0 1 3 2 2 1 3 0 0 0 2 0 3 2 0 2 1 3 0 3 3 3 0\n",
            " 3 2 1 2 3 2 1 3 2 1 2]\n"
          ],
          "name": "stdout"
        }
      ]
    },
    {
      "cell_type": "code",
      "metadata": {
        "id": "zN9YD4y8wmkr"
      },
      "source": [
        "from PIL import Image\r\n",
        "import os\r\n",
        "def load_image(file):\r\n",
        "    dimension=(104, 104)\r\n",
        "    image = Image.open(file)\r\n",
        "    flatten_data = []\r\n",
        "    img = skimage.io.imread(file)\r\n",
        "    img_resized = resize(img, dimension, anti_aliasing=True, mode='reflect')\r\n",
        "    flatten_data.append(img_resized.flatten()) \r\n",
        "    return image,flatten_data"
      ],
      "execution_count": 163,
      "outputs": []
    },
    {
      "cell_type": "code",
      "metadata": {
        "colab": {
          "base_uri": "https://localhost:8080/",
          "height": 132
        },
        "id": "rfnwGqUKwpWG",
        "outputId": "a6f2c3d5-764e-4e72-f69b-fa976930f10c"
      },
      "source": [
        "plot , img = load_image('/content/drive/MyDrive/kaggle/rice/ricedisease/Brown spot/DSC_0105.jpg')\r\n",
        "%matplotlib inline\r\n",
        "plt.imshow(plot)\r\n",
        "plt.show()\r\n",
        "test = dataset.target_names\r\n",
        "p = clf.predict(img)\r\n",
        "\r\n",
        "s = [str(i) for i in p] \r\n",
        "a = int(\"\".join(s)) \r\n",
        "print(\"Predicted Disease is\", test[a])"
      ],
      "execution_count": 164,
      "outputs": [
        {
          "output_type": "display_data",
          "data": {
            "image/png": "[encoded data removed]",
            "text/plain": [
              "<Figure size 432x288 with 1 Axes>"
            ]
          },
          "metadata": {
            "tags": [],
            "needs_background": "light"
          }
        },
        {
          "output_type": "stream",
          "text": [
            "Predicted Disease is Brown spot\n"
          ],
          "name": "stdout"
        }
      ]
    }
  ]
}