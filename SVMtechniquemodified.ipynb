{
  "nbformat": 4,
  "nbformat_minor": 0,
  "metadata": {
    "colab": {
      "name": "SVM.ipynb",
      "provenance": [],
      "mount_file_id": "1anNH9QtxW8fPDaHJlyCIzsX2BYVOeLFq",
      "authorship_tag": "ABX9TyOty1Pnq0mtAtdzUWI2Ryse"
    },
    "kernelspec": {
      "name": "python3",
      "display_name": "Python 3"
    },
    "language_info": {
      "name": "python"
    }
  },
  "cells": [
    {
      "cell_type": "code",
      "metadata": {
        "id": "aI7lKpj1cOaE"
      },
      "source": [
        "from pathlib import Path\n",
        "import glob\n",
        "import pandas as pd\n",
        "import numpy as np\n",
        "import skimage\n",
        "from skimage.io import imread\n",
        "from skimage.transform import resize\n",
        "\n",
        "\n",
        "images_dir = Path('/content/drive/MyDrive/kaggle/rice/ricedisease')\n",
        "folders = [directory for directory in images_dir.iterdir() if directory.is_dir()]\n",
        "categories = [fo.name for fo in folders]\n",
        "\n",
        "images = []\n",
        "flat_data = []\n",
        "target = []\n",
        "target_names=categories\n",
        "\n",
        "for i, direc in enumerate(folders):\n",
        "  for file in direc.iterdir():\n",
        "    image = skimage.io.imread(file)\n",
        "    image_resized=resize(image,(229,229))\n",
        "    images.append(image_resized)\n",
        "    flat_data.append(image_resized.flatten())\n",
        "    target.append(i)\n",
        "\n",
        "flat_data = np.array(flat_data)\n",
        "target = np.array(target)\n",
        "images = np.array(images)\n",
        "\n"
      ],
      "execution_count": 55,
      "outputs": []
    },
    {
      "cell_type": "code",
      "metadata": {
        "colab": {
          "base_uri": "https://localhost:8080/"
        },
        "id": "HIL443-djXpj",
        "outputId": "30e5ae20-3ba0-4f59-e2b1-56e5c22ab181"
      },
      "source": [
        "folders"
      ],
      "execution_count": 56,
      "outputs": [
        {
          "output_type": "execute_result",
          "data": {
            "text/plain": [
              "[PosixPath('/content/drive/MyDrive/kaggle/rice/ricedisease/Healthy'),\n",
              " PosixPath('/content/drive/MyDrive/kaggle/rice/ricedisease/Bacterial leaf blight'),\n",
              " PosixPath('/content/drive/MyDrive/kaggle/rice/ricedisease/Brown spot'),\n",
              " PosixPath('/content/drive/MyDrive/kaggle/rice/ricedisease/Leaf smut')]"
            ]
          },
          "metadata": {
            "tags": []
          },
          "execution_count": 56
        }
      ]
    },
    {
      "cell_type": "code",
      "metadata": {
        "colab": {
          "base_uri": "https://localhost:8080/"
        },
        "id": "ix6XR77Eef5E",
        "outputId": "ae6f1414-a92e-469b-ecba-29aa89d1a625"
      },
      "source": [
        "target\n"
      ],
      "execution_count": 57,
      "outputs": [
        {
          "output_type": "execute_result",
          "data": {
            "text/plain": [
              "array([0, 0, 0, 0, 0, 0, 0, 0, 0, 0, 0, 0, 0, 0, 0, 0, 0, 0, 0, 0, 0, 0,\n",
              "       0, 0, 0, 0, 0, 0, 0, 0, 0, 0, 0, 0, 0, 0, 0, 0, 0, 0, 1, 1, 1, 1,\n",
              "       1, 1, 1, 1, 1, 1, 1, 1, 1, 1, 1, 1, 1, 1, 1, 1, 1, 1, 1, 1, 1, 1,\n",
              "       1, 1, 1, 1, 1, 1, 1, 1, 1, 1, 1, 1, 1, 1, 2, 2, 2, 2, 2, 2, 2, 2,\n",
              "       2, 2, 2, 2, 2, 2, 2, 2, 2, 2, 2, 2, 2, 2, 2, 2, 2, 2, 2, 2, 2, 2,\n",
              "       2, 2, 2, 2, 2, 2, 2, 2, 2, 2, 3, 3, 3, 3, 3, 3, 3, 3, 3, 3, 3, 3,\n",
              "       3, 3, 3, 3, 3, 3, 3, 3, 3, 3, 3, 3, 3, 3, 3, 3, 3, 3, 3, 3, 3, 3,\n",
              "       3, 3, 3, 3, 3, 3])"
            ]
          },
          "metadata": {
            "tags": []
          },
          "execution_count": 57
        }
      ]
    },
    {
      "cell_type": "code",
      "metadata": {
        "colab": {
          "base_uri": "https://localhost:8080/"
        },
        "id": "6BwaNC12gQcD",
        "outputId": "73d70ed3-6108-4f22-d148-af2358b64626"
      },
      "source": [
        "images"
      ],
      "execution_count": 58,
      "outputs": [
        {
          "output_type": "execute_result",
          "data": {
            "text/plain": [
              "array([[[[0.97254902, 0.96862745, 0.98823529],\n",
              "         [0.97647059, 0.97254902, 0.99215686],\n",
              "         [0.97254902, 0.96862745, 0.98823529],\n",
              "         ...,\n",
              "         [0.90588235, 0.90980392, 0.9372549 ],\n",
              "         [0.90980392, 0.90980392, 0.9372549 ],\n",
              "         [0.90967549, 0.90980392, 0.9372549 ]],\n",
              "\n",
              "        [[0.97254902, 0.97254902, 0.99215686],\n",
              "         [0.96862745, 0.96470588, 0.98823529],\n",
              "         [0.96470588, 0.96078431, 0.98431373],\n",
              "         ...,\n",
              "         [0.90980392, 0.91334018, 0.9372549 ],\n",
              "         [0.90980392, 0.91334018, 0.94079116],\n",
              "         [0.91334018, 0.91371287, 0.94117647]],\n",
              "\n",
              "        [[0.9731912 , 0.97254902, 0.99215686],\n",
              "         [0.97254902, 0.96862745, 0.9886206 ],\n",
              "         [0.96862745, 0.96470588, 0.98823529],\n",
              "         ...,\n",
              "         [0.90706155, 0.90980392, 0.9372549 ],\n",
              "         [0.91764706, 0.91764706, 0.94509804],\n",
              "         [0.91753966, 0.91372549, 0.94509804]],\n",
              "\n",
              "        ...,\n",
              "\n",
              "        [[0.90588235, 0.90980392, 0.92941176],\n",
              "         [0.90588235, 0.90980392, 0.92941176],\n",
              "         [0.90980392, 0.91372549, 0.93333333],\n",
              "         ...,\n",
              "         [0.76067915, 0.75686275, 0.78823529],\n",
              "         [0.74509804, 0.74509804, 0.77608528],\n",
              "         [0.73258375, 0.7333123 , 0.76078431]],\n",
              "\n",
              "        [[0.90588235, 0.90980392, 0.92941176],\n",
              "         [0.90588235, 0.90980392, 0.92941176],\n",
              "         [0.90588235, 0.90980392, 0.92941176],\n",
              "         ...,\n",
              "         [0.76020523, 0.75628366, 0.78765621],\n",
              "         [0.74471273, 0.74079116, 0.77216371],\n",
              "         [0.73333333, 0.73333333, 0.76078431]],\n",
              "\n",
              "        [[0.91764706, 0.92156863, 0.94117647],\n",
              "         [0.91030504, 0.9141108 , 0.9372549 ],\n",
              "         [0.90575392, 0.90588235, 0.93322593],\n",
              "         ...,\n",
              "         [0.75611316, 0.75219159, 0.78356414],\n",
              "         [0.7372549 , 0.7372549 , 0.76824214],\n",
              "         [0.74117647, 0.74117647, 0.76875589]]],\n",
              "\n",
              "\n",
              "       [[[0.94509804, 0.97254902, 0.99009032],\n",
              "         [0.9372549 , 0.96470588, 0.98431373],\n",
              "         [0.92941176, 0.95686275, 0.97647059],\n",
              "         ...,\n",
              "         [0.91372549, 0.90980392, 0.96078431],\n",
              "         [0.90588235, 0.90196078, 0.95686275],\n",
              "         [0.90980392, 0.90588235, 0.95871777]],\n",
              "\n",
              "        [[0.94117647, 0.96862745, 0.9870884 ],\n",
              "         [0.9372549 , 0.96470588, 0.98431373],\n",
              "         [0.94117647, 0.96862745, 0.98823529],\n",
              "         ...,\n",
              "         [0.90588235, 0.90427029, 0.95686275],\n",
              "         [0.90588235, 0.90196078, 0.95686275],\n",
              "         [0.90955561, 0.90563404, 0.95686275]],\n",
              "\n",
              "        [[0.9372549 , 0.96470588, 0.98431373],\n",
              "         [0.94117647, 0.96851848, 0.98431373],\n",
              "         [0.94509804, 0.97254902, 0.98823529],\n",
              "         ...,\n",
              "         [0.90588235, 0.90588235, 0.94509804],\n",
              "         [0.91372549, 0.91372549, 0.95087998],\n",
              "         [0.91221202, 0.91372549, 0.95294118]],\n",
              "\n",
              "        ...,\n",
              "\n",
              "        [[0.89530133, 0.90196078, 0.92941176],\n",
              "         [0.87843137, 0.90023975, 0.9254902 ],\n",
              "         [0.8745098 , 0.90196078, 0.9254902 ],\n",
              "         ...,\n",
              "         [0.65098039, 0.64781413, 0.70196078],\n",
              "         [0.65490196, 0.65098039, 0.70196078],\n",
              "         [0.6627451 , 0.65882353, 0.71372549]],\n",
              "\n",
              "        [[0.89411765, 0.89803922, 0.92941176],\n",
              "         [0.88235294, 0.90588235, 0.92941176],\n",
              "         [0.88235294, 0.90980392, 0.933194  ],\n",
              "         ...,\n",
              "         [0.64705882, 0.64474932, 0.69803922],\n",
              "         [0.65465365, 0.65098039, 0.70219337],\n",
              "         [0.65882353, 0.65490196, 0.70980392]],\n",
              "\n",
              "        [[0.89019608, 0.89534207, 0.9254902 ],\n",
              "         [0.88235294, 0.90196078, 0.9254902 ],\n",
              "         [0.87691791, 0.90196078, 0.9254902 ],\n",
              "         ...,\n",
              "         [0.64093672, 0.63921569, 0.69019608],\n",
              "         [0.64313725, 0.63921569, 0.69411765],\n",
              "         [0.65098039, 0.64790095, 0.70196078]]],\n",
              "\n",
              "\n",
              "       [[[0.8745098 , 0.8745098 , 0.90196078],\n",
              "         [0.8745098 , 0.87843137, 0.90365613],\n",
              "         [0.8745098 , 0.8745098 , 0.90365613],\n",
              "         ...,\n",
              "         [0.82745098, 0.82745098, 0.85098039],\n",
              "         [0.83086913, 0.83137255, 0.85490196],\n",
              "         [0.83137255, 0.83529412, 0.85882353]],\n",
              "\n",
              "        [[0.8745098 , 0.87567429, 0.90588235],\n",
              "         [0.88041455, 0.88235294, 0.90980392],\n",
              "         [0.87843137, 0.87843137, 0.90588235],\n",
              "         ...,\n",
              "         [0.82352941, 0.82352941, 0.85098039],\n",
              "         [0.82352941, 0.83055385, 0.85490196],\n",
              "         [0.82352941, 0.83412963, 0.85832011]],\n",
              "\n",
              "        [[0.88627451, 0.88627451, 0.91372549],\n",
              "         [0.87843137, 0.88118846, 0.90819397],\n",
              "         [0.8745098 , 0.87843137, 0.90588235],\n",
              "         ...,\n",
              "         [0.82352941, 0.82745098, 0.8537371 ],\n",
              "         [0.81666261, 0.83137255, 0.85490196],\n",
              "         [0.80392157, 0.82745098, 0.85098039]],\n",
              "\n",
              "        ...,\n",
              "\n",
              "        [[0.88627451, 0.89019608, 0.90980392],\n",
              "         [0.88235294, 0.88627451, 0.90588235],\n",
              "         [0.88235294, 0.88627451, 0.90588235],\n",
              "         ...,\n",
              "         [0.81176471, 0.81176471, 0.85490196],\n",
              "         [0.80392157, 0.80392157, 0.84019202],\n",
              "         [0.79607843, 0.8       , 0.82745098]],\n",
              "\n",
              "        [[0.88627451, 0.89019608, 0.90980392],\n",
              "         [0.88235294, 0.88627451, 0.90588235],\n",
              "         [0.88235294, 0.88627451, 0.90588235],\n",
              "         ...,\n",
              "         [0.81176471, 0.81176471, 0.84313725],\n",
              "         [0.80784314, 0.80784314, 0.8356399 ],\n",
              "         [0.8       , 0.8       , 0.83020807]],\n",
              "\n",
              "        [[0.89019608, 0.89411765, 0.91372549],\n",
              "         [0.88235294, 0.88627451, 0.90588235],\n",
              "         [0.88627451, 0.89019608, 0.90980392],\n",
              "         ...,\n",
              "         [0.81960784, 0.81960784, 0.84705882],\n",
              "         [0.81176471, 0.81176471, 0.83921569],\n",
              "         [0.80392157, 0.80392157, 0.83529412]]],\n",
              "\n",
              "\n",
              "       ...,\n",
              "\n",
              "\n",
              "       [[[0.9254902 , 0.88235294, 0.85882353],\n",
              "         [0.9254902 , 0.88627451, 0.85882353],\n",
              "         [0.92941176, 0.88627451, 0.8627451 ],\n",
              "         ...,\n",
              "         [0.94509804, 0.90980392, 0.89019608],\n",
              "         [0.94509804, 0.91372549, 0.89411765],\n",
              "         [0.94370824, 0.91372549, 0.89803922]],\n",
              "\n",
              "        [[0.92941176, 0.88627451, 0.85882353],\n",
              "         [0.93333333, 0.89244944, 0.85882353],\n",
              "         [0.92941176, 0.88627451, 0.8627451 ],\n",
              "         ...,\n",
              "         [0.94509804, 0.90980392, 0.89019608],\n",
              "         [0.94509804, 0.91617433, 0.89803922],\n",
              "         [0.94117647, 0.91013834, 0.89803922]],\n",
              "\n",
              "        [[0.92941176, 0.88298289, 0.85490196],\n",
              "         [0.93055912, 0.89134344, 0.85490196],\n",
              "         [0.92586574, 0.88627451, 0.85783149],\n",
              "         ...,\n",
              "         [0.94232383, 0.90980392, 0.89526501],\n",
              "         [0.94509804, 0.91409124, 0.89918657],\n",
              "         [0.94509804, 0.91372549, 0.90196078]],\n",
              "\n",
              "        ...,\n",
              "\n",
              "        [[0.9254902 , 0.88512715, 0.85882353],\n",
              "         [0.92852741, 0.88627451, 0.8627451 ],\n",
              "         [0.92956708, 0.89019608, 0.86666667],\n",
              "         ...,\n",
              "         [0.94117647, 0.90980392, 0.90196078],\n",
              "         [0.93914476, 0.90777221, 0.8960075 ],\n",
              "         [0.9372549 , 0.90588235, 0.89411765]],\n",
              "\n",
              "        [[0.9254902 , 0.88627451, 0.85882353],\n",
              "         [0.9254902 , 0.88627451, 0.86127237],\n",
              "         [0.9254902 , 0.88594301, 0.85882353],\n",
              "         ...,\n",
              "         [0.94117647, 0.90980392, 0.89984345],\n",
              "         [0.94117647, 0.90980392, 0.89803922],\n",
              "         [0.94117647, 0.90980392, 0.89803922]],\n",
              "\n",
              "        [[0.9254902 , 0.88627451, 0.85882353],\n",
              "         [0.9254902 , 0.89019608, 0.8627451 ],\n",
              "         [0.9254902 , 0.88627451, 0.86065954],\n",
              "         ...,\n",
              "         [0.94117647, 0.90588235, 0.89803922],\n",
              "         [0.94117647, 0.90980392, 0.89803922],\n",
              "         [0.94117647, 0.90980392, 0.89803922]]],\n",
              "\n",
              "\n",
              "       [[[0.94117647, 0.91372549, 0.89411765],\n",
              "         [0.939053  , 0.91372549, 0.89803922],\n",
              "         [0.94117647, 0.90980392, 0.89411765],\n",
              "         ...,\n",
              "         [0.94901961, 0.92732621, 0.91343803],\n",
              "         [0.95294118, 0.9254902 , 0.91764706],\n",
              "         [0.95294118, 0.9254902 , 0.91764706]],\n",
              "\n",
              "        [[0.94117647, 0.90980392, 0.89411765],\n",
              "         [0.94117647, 0.90980392, 0.89411765],\n",
              "         [0.94117647, 0.90799969, 0.89378614],\n",
              "         ...,\n",
              "         [0.94901961, 0.9254902 , 0.91372549],\n",
              "         [0.95294118, 0.9254902 , 0.91764706],\n",
              "         [0.95294118, 0.9254902 , 0.91764706]],\n",
              "\n",
              "        [[0.94117647, 0.90980392, 0.89297029],\n",
              "         [0.94117647, 0.90980392, 0.89019608],\n",
              "         [0.94117647, 0.90588235, 0.89411765],\n",
              "         ...,\n",
              "         [0.94901961, 0.9254902 , 0.91372549],\n",
              "         [0.95686275, 0.9254902 , 0.91764706],\n",
              "         [0.95571539, 0.9254902 , 0.91764706]],\n",
              "\n",
              "        ...,\n",
              "\n",
              "        [[0.93840226, 0.91764706, 0.90196078],\n",
              "         [0.94509804, 0.91764706, 0.90588235],\n",
              "         [0.94509804, 0.91372549, 0.89803922],\n",
              "         ...,\n",
              "         [0.94509804, 0.9254902 , 0.91764706],\n",
              "         [0.94901961, 0.9254902 , 0.91372549],\n",
              "         [0.95294118, 0.92156863, 0.91372549]],\n",
              "\n",
              "        [[0.9372549 , 0.91575429, 0.89803922],\n",
              "         [0.9426492 , 0.91764706, 0.90196078],\n",
              "         [0.94509804, 0.91372549, 0.90142992],\n",
              "         ...,\n",
              "         [0.94509804, 0.9254902 , 0.91519822],\n",
              "         [0.94901961, 0.92304136, 0.91372549],\n",
              "         [0.95294118, 0.92156863, 0.91561826]],\n",
              "\n",
              "        [[0.94117647, 0.91372549, 0.89803922],\n",
              "         [0.94117647, 0.91764706, 0.90196078],\n",
              "         [0.94354335, 0.91584896, 0.90196078],\n",
              "         ...,\n",
              "         [0.94693405, 0.92336673, 0.91372549],\n",
              "         [0.94901961, 0.92156863, 0.91372549],\n",
              "         [0.94901961, 0.92156863, 0.91764706]]],\n",
              "\n",
              "\n",
              "       [[[0.9254902 , 0.88235294, 0.85098039],\n",
              "         [0.9254902 , 0.88235294, 0.85490196],\n",
              "         [0.92941176, 0.88022947, 0.85490196],\n",
              "         ...,\n",
              "         [0.9372549 , 0.9139689 , 0.90196078],\n",
              "         [0.94117647, 0.91372549, 0.90196078],\n",
              "         [0.94117647, 0.91764706, 0.90196078]],\n",
              "\n",
              "        [[0.92696292, 0.87843137, 0.84705882],\n",
              "         [0.9254902 , 0.88235294, 0.85051092],\n",
              "         [0.92941176, 0.88215358, 0.84950766],\n",
              "         ...,\n",
              "         [0.9372549 , 0.91405699, 0.90048806],\n",
              "         [0.93970374, 0.9149756 , 0.90048806],\n",
              "         [0.9372549 , 0.91764706, 0.90196078]],\n",
              "\n",
              "        [[0.9254902 , 0.8745098 , 0.84313725],\n",
              "         [0.92941176, 0.88110283, 0.84502711],\n",
              "         [0.92941176, 0.87843137, 0.84591147],\n",
              "         ...,\n",
              "         [0.9372549 , 0.91764706, 0.89819453],\n",
              "         [0.9372549 , 0.91764706, 0.89803922],\n",
              "         [0.9372549 , 0.91764706, 0.90196078]],\n",
              "\n",
              "        ...,\n",
              "\n",
              "        [[0.9372549 , 0.90588235, 0.88627451],\n",
              "         [0.9372549 , 0.90473499, 0.88235294],\n",
              "         [0.9372549 , 0.90588235, 0.88235294],\n",
              "         ...,\n",
              "         [0.9406456 , 0.91372549, 0.89766367],\n",
              "         [0.94232383, 0.90980392, 0.89803922],\n",
              "         [0.94117647, 0.90980392, 0.89803922]],\n",
              "\n",
              "        [[0.9372549 , 0.90588235, 0.88627451],\n",
              "         [0.9372549 , 0.90833119, 0.88480178],\n",
              "         [0.9372549 , 0.90588235, 0.88235294],\n",
              "         ...,\n",
              "         [0.9375864 , 0.91372549, 0.89411765],\n",
              "         [0.9372549 , 0.91372549, 0.89803922],\n",
              "         [0.94117647, 0.91372549, 0.89803922]],\n",
              "\n",
              "        [[0.9372549 , 0.90980392, 0.88627451],\n",
              "         [0.9372549 , 0.90980392, 0.88695142],\n",
              "         [0.9372549 , 0.90588235, 0.87998606],\n",
              "         ...,\n",
              "         [0.94329994, 0.90980392, 0.89803922],\n",
              "         [0.94117647, 0.91372549, 0.89803922],\n",
              "         [0.94117647, 0.91372549, 0.89983731]]]])"
            ]
          },
          "metadata": {
            "tags": []
          },
          "execution_count": 58
        }
      ]
    },
    {
      "cell_type": "code",
      "metadata": {
        "colab": {
          "base_uri": "https://localhost:8080/"
        },
        "id": "ZXNF_bZPnkic",
        "outputId": "f5ad5f18-247a-4f72-d247-5576674a1846"
      },
      "source": [
        "target_names"
      ],
      "execution_count": 59,
      "outputs": [
        {
          "output_type": "execute_result",
          "data": {
            "text/plain": [
              "['Healthy', 'Bacterial leaf blight', 'Brown spot', 'Leaf smut']"
            ]
          },
          "metadata": {
            "tags": []
          },
          "execution_count": 59
        }
      ]
    },
    {
      "cell_type": "code",
      "metadata": {
        "colab": {
          "base_uri": "https://localhost:8080/"
        },
        "id": "ms6WC4XznpWY",
        "outputId": "e8fde20d-69e8-4849-ad50-c9d78822b5de"
      },
      "source": [
        "flat_data"
      ],
      "execution_count": 60,
      "outputs": [
        {
          "output_type": "execute_result",
          "data": {
            "text/plain": [
              "array([[0.97254902, 0.96862745, 0.98823529, ..., 0.74117647, 0.74117647,\n",
              "        0.76875589],\n",
              "       [0.94509804, 0.97254902, 0.99009032, ..., 0.65098039, 0.64790095,\n",
              "        0.70196078],\n",
              "       [0.8745098 , 0.8745098 , 0.90196078, ..., 0.80392157, 0.80392157,\n",
              "        0.83529412],\n",
              "       ...,\n",
              "       [0.9254902 , 0.88235294, 0.85882353, ..., 0.94117647, 0.90980392,\n",
              "        0.89803922],\n",
              "       [0.94117647, 0.91372549, 0.89411765, ..., 0.94901961, 0.92156863,\n",
              "        0.91764706],\n",
              "       [0.9254902 , 0.88235294, 0.85098039, ..., 0.94117647, 0.91372549,\n",
              "        0.89983731]])"
            ]
          },
          "metadata": {
            "tags": []
          },
          "execution_count": 60
        }
      ]
    },
    {
      "cell_type": "code",
      "metadata": {
        "id": "4kUrZXa5o08S"
      },
      "source": [
        "from sklearn.model_selection import train_test_split\n",
        "X_train, X_test, y_train, y_test = train_test_split(flat_data, target, test_size=0.3,random_state=109)"
      ],
      "execution_count": 67,
      "outputs": []
    },
    {
      "cell_type": "code",
      "metadata": {
        "id": "KKjw9fHgoFzf"
      },
      "source": [
        "param_grid = [\n",
        "  {'C': [1, 10, 100, 1000], 'gamma': [0.001, 0.0001], 'kernel': ['rbf']},\n",
        " ]"
      ],
      "execution_count": 71,
      "outputs": []
    },
    {
      "cell_type": "code",
      "metadata": {
        "id": "VhapOpIPqLkt"
      },
      "source": [
        "from sklearn import svm, metrics, datasets\n",
        "from sklearn.model_selection import GridSearchCV\n",
        "svc = svm.SVC()\n",
        "clf = GridSearchCV(svc, param_grid)"
      ],
      "execution_count": 74,
      "outputs": []
    },
    {
      "cell_type": "code",
      "metadata": {
        "colab": {
          "base_uri": "https://localhost:8080/"
        },
        "id": "_9z68_S8qYfZ",
        "outputId": "efc8375a-b754-44d7-ed47-2ca06c8ed028"
      },
      "source": [
        "clf.fit(X_train, y_train)"
      ],
      "execution_count": 75,
      "outputs": [
        {
          "output_type": "execute_result",
          "data": {
            "text/plain": [
              "GridSearchCV(cv=None, error_score=nan,\n",
              "             estimator=SVC(C=1.0, break_ties=False, cache_size=200,\n",
              "                           class_weight=None, coef0=0.0,\n",
              "                           decision_function_shape='ovr', degree=3,\n",
              "                           gamma='scale', kernel='rbf', max_iter=-1,\n",
              "                           probability=False, random_state=None, shrinking=True,\n",
              "                           tol=0.001, verbose=False),\n",
              "             iid='deprecated', n_jobs=None,\n",
              "             param_grid=[{'C': [1, 10, 100, 1000], 'gamma': [0.001, 0.0001],\n",
              "                          'kernel': ['rbf']}],\n",
              "             pre_dispatch='2*n_jobs', refit=True, return_train_score=False,\n",
              "             scoring=None, verbose=0)"
            ]
          },
          "metadata": {
            "tags": []
          },
          "execution_count": 75
        }
      ]
    },
    {
      "cell_type": "code",
      "metadata": {
        "id": "DL4lUU98rGUy"
      },
      "source": [
        "y_pred = clf.predict(X_test)"
      ],
      "execution_count": 76,
      "outputs": []
    },
    {
      "cell_type": "code",
      "metadata": {
        "colab": {
          "base_uri": "https://localhost:8080/"
        },
        "id": "8eDLKTGBrJj2",
        "outputId": "c80fe4aa-5992-4d6a-a408-73a002f83e58"
      },
      "source": [
        "print(clf.score(X_test,y_test))"
      ],
      "execution_count": 77,
      "outputs": [
        {
          "output_type": "stream",
          "text": [
            "0.8125\n"
          ],
          "name": "stdout"
        }
      ]
    },
    {
      "cell_type": "code",
      "metadata": {
        "colab": {
          "base_uri": "https://localhost:8080/"
        },
        "id": "83m2f_2ZrN8b",
        "outputId": "151c9b02-5a0e-49ba-d0ee-065e87a5495f"
      },
      "source": [
        "print(\"Classification report for - \\n{}:\\n{}\\n\".format(\n",
        "    clf, metrics.classification_report(y_test, y_pred)))"
      ],
      "execution_count": 78,
      "outputs": [
        {
          "output_type": "stream",
          "text": [
            "Classification report for - \n",
            "GridSearchCV(cv=None, error_score=nan,\n",
            "             estimator=SVC(C=1.0, break_ties=False, cache_size=200,\n",
            "                           class_weight=None, coef0=0.0,\n",
            "                           decision_function_shape='ovr', degree=3,\n",
            "                           gamma='scale', kernel='rbf', max_iter=-1,\n",
            "                           probability=False, random_state=None, shrinking=True,\n",
            "                           tol=0.001, verbose=False),\n",
            "             iid='deprecated', n_jobs=None,\n",
            "             param_grid=[{'C': [1, 10, 100, 1000], 'gamma': [0.001, 0.0001],\n",
            "                          'kernel': ['rbf']}],\n",
            "             pre_dispatch='2*n_jobs', refit=True, return_train_score=False,\n",
            "             scoring=None, verbose=0):\n",
            "              precision    recall  f1-score   support\n",
            "\n",
            "           0       1.00      1.00      1.00        12\n",
            "           1       0.64      0.90      0.75        10\n",
            "           2       0.86      0.50      0.63        12\n",
            "           3       0.80      0.86      0.83        14\n",
            "\n",
            "    accuracy                           0.81        48\n",
            "   macro avg       0.82      0.81      0.80        48\n",
            "weighted avg       0.83      0.81      0.81        48\n",
            "\n",
            "\n"
          ],
          "name": "stdout"
        }
      ]
    },
    {
      "cell_type": "code",
      "metadata": {
        "colab": {
          "base_uri": "https://localhost:8080/"
        },
        "id": "Z5Kl79QhrRkE",
        "outputId": "af383c79-227e-4cd5-fb97-92c8eedbb894"
      },
      "source": [
        "from sklearn.metrics import confusion_matrix\n",
        "cm = confusion_matrix(y_test,y_pred)\n",
        "print(cm)"
      ],
      "execution_count": 79,
      "outputs": [
        {
          "output_type": "stream",
          "text": [
            "[[12  0  0  0]\n",
            " [ 0  9  0  1]\n",
            " [ 0  4  6  2]\n",
            " [ 0  1  1 12]]\n"
          ],
          "name": "stdout"
        }
      ]
    },
    {
      "cell_type": "code",
      "metadata": {
        "colab": {
          "base_uri": "https://localhost:8080/"
        },
        "id": "CaP3Fhi3rX7Z",
        "outputId": "608f4d6e-366c-4312-c7b0-f10857d5e815"
      },
      "source": [
        "print(y_pred)"
      ],
      "execution_count": 80,
      "outputs": [
        {
          "output_type": "stream",
          "text": [
            "[3 0 3 0 2 0 0 1 2 1 1 3 3 3 0 1 3 2 1 1 3 0 0 0 3 0 2 2 0 2 3 3 0 3 3 3 0\n",
            " 2 1 1 1 1 3 1 3 1 1 1]\n"
          ],
          "name": "stdout"
        }
      ]
    },
    {
      "cell_type": "code",
      "metadata": {
        "colab": {
          "base_uri": "https://localhost:8080/",
          "height": 287
        },
        "id": "n8jT-Pa6rbi_",
        "outputId": "98de0508-07fe-4037-b68e-d3deddf942d3"
      },
      "source": [
        "import matplotlib.pyplot as plt\n",
        "imagetest=skimage.io.imread('/content/drive/MyDrive/kaggle/rice/ricedisease/Healthy/IMG_20190419_172925.jpg')\n",
        "flattenimg=[]\n",
        "img_resized = resize(imagetest,(229,229), anti_aliasing=True, mode='reflect')\n",
        "flattenimg.append(img_resized.flatten())\n",
        "%matplotlib inline\n",
        "plt.imshow(imagetest)\n",
        "plt.show()\n",
        "k = target_names\n",
        "p = clf.predict(flattenimg)\n",
        "\n",
        "s = [str(i) for i in p] \n",
        "a = int(\"\".join(s)) \n",
        "print(\"Predicted Disease is\", k[a])"
      ],
      "execution_count": 95,
      "outputs": [
        {
          "output_type": "display_data",
          "data": {
            "image/png": "[encoded data removed]",
            "text/plain": [
              "<Figure size 432x288 with 1 Axes>"
            ]
          },
          "metadata": {
            "tags": [],
            "needs_background": "light"
          }
        },
        {
          "output_type": "stream",
          "text": [
            "Predicted Disease is Healthy\n"
          ],
          "name": "stdout"
        }
      ]
    }
  ]
}